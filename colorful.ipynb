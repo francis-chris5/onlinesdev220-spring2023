{
 "cells": [
  {
   "cell_type": "code",
   "execution_count": 1,
   "id": "b9656aaf",
   "metadata": {},
   "outputs": [
    {
     "name": "stdout",
     "output_type": "stream",
     "text": [
      "Collecting colorama\n",
      "  Using cached colorama-0.4.6-py2.py3-none-any.whl (25 kB)\n",
      "Installing collected packages: colorama\n",
      "Successfully installed colorama-0.4.6\n",
      "Note: you may need to restart the kernel to use updated packages.\n"
     ]
    },
    {
     "name": "stderr",
     "output_type": "stream",
     "text": [
      "\n",
      "[notice] A new release of pip available: 22.3.1 -> 23.0.1\n",
      "[notice] To update, run: python.exe -m pip install --upgrade pip\n"
     ]
    }
   ],
   "source": [
    "pip install colorama"
   ]
  },
  {
   "cell_type": "code",
   "execution_count": 2,
   "id": "47b4443f",
   "metadata": {},
   "outputs": [
    {
     "name": "stdout",
     "output_type": "stream",
     "text": [
      "\u001b[31mhere's some red stuff\n",
      "\u001b[32mnow it looks a little christmasy\n",
      "\u001b[40m\u001b[37mthis finishes it up\n"
     ]
    }
   ],
   "source": [
    "import colorama\n",
    "\n",
    "print(colorama.Fore.RED + \"here's some red stuff\")\n",
    "print(colorama.Fore.GREEN + \"now it looks a little christmasy\")\n",
    "print(colorama.Back.BLACK + colorama.Fore.WHITE + \"this finishes it up\")"
   ]
  },
  {
   "cell_type": "code",
   "execution_count": null,
   "id": "1bef7109",
   "metadata": {},
   "outputs": [],
   "source": []
  }
 ],
 "metadata": {
  "kernelspec": {
   "display_name": "Python 3 (ipykernel)",
   "language": "python",
   "name": "python3"
  },
  "language_info": {
   "codemirror_mode": {
    "name": "ipython",
    "version": 3
   },
   "file_extension": ".py",
   "mimetype": "text/x-python",
   "name": "python",
   "nbconvert_exporter": "python",
   "pygments_lexer": "ipython3",
   "version": "3.11.1"
  }
 },
 "nbformat": 4,
 "nbformat_minor": 5
}
